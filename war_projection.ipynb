{
 "cells": [
  {
   "cell_type": "code",
   "execution_count": 1,
   "id": "b4669264",
   "metadata": {},
   "outputs": [],
   "source": [
    "import numpy as np"
   ]
  },
  {
   "cell_type": "code",
   "execution_count": 2,
   "id": "284f5b9b",
   "metadata": {},
   "outputs": [],
   "source": [
    "# Bayesian WAR projection\n",
    "\n",
    "def war_projection(previous_war, new_war, confidence_prior):\n",
    "    \n",
    "    \"\"\"\n",
    "    \n",
    "    Updates a player's WAR projection using Bayesian updating.\n",
    "    \n",
    "    previous_war: WAR from past season(s)\n",
    "    \n",
    "    new_war: WAR in current season\n",
    "    \n",
    "    confidence_prior: How much weight to give to prior performance based on age, track record, etc.(0.0-1.0)\n",
    "    \n",
    "    \"\"\"\n",
    "    \n",
    "    return confidence_prior * previous_war + (1 - confidence_prior) * new_war"
   ]
  },
  {
   "cell_type": "code",
   "execution_count": 28,
   "id": "bbc988d5",
   "metadata": {},
   "outputs": [
    {
     "name": "stdout",
     "output_type": "stream",
     "text": [
      "Projected WAR for Shohei Ohtani next season: 9.17\n"
     ]
    }
   ],
   "source": [
    "# Shohei Ohtani\n",
    "\n",
    "previous_war = 9.75\n",
    "new_war = 8.3\n",
    "confidence_prior = 0.6\n",
    "\n",
    "projected_war_ohtani = war_projection(previous_war, new_war, confidence_prior)\n",
    "\n",
    "print(f\"Projected WAR for Shohei Ohtani next season: {projected_war_ohtani}\")"
   ]
  },
  {
   "cell_type": "code",
   "execution_count": 16,
   "id": "ca0dd464",
   "metadata": {},
   "outputs": [
    {
     "name": "stdout",
     "output_type": "stream",
     "text": [
      "Projected WAR for Ronald Acuna Jr next season: 6.905\n"
     ]
    }
   ],
   "source": [
    "# Ronald Acuna Jr\n",
    "\n",
    "previous_war = 4.5\n",
    "new_war = 8.2\n",
    "confidence_prior = 0.35\n",
    "\n",
    "projected_war_acuna = war_projection(previous_war, new_war, confidence_prior)\n",
    "\n",
    "print(f\"Projected WAR for Ronald Acuna Jr next season: {projected_war_acuna}\")"
   ]
  },
  {
   "cell_type": "code",
   "execution_count": 27,
   "id": "462ae6bd",
   "metadata": {},
   "outputs": [
    {
     "name": "stdout",
     "output_type": "stream",
     "text": [
      "Projected WAR for Aaron Judge next season: 7.76\n"
     ]
    }
   ],
   "source": [
    "# Aaron Judge\n",
    "\n",
    "previous_war = 6.5\n",
    "new_war = 10.7\n",
    "confidence_prior = 0.7\n",
    "\n",
    "projected_war_judge = war_projection(previous_war, new_war, confidence_prior)\n",
    "\n",
    "print(f\"Projected WAR for Aaron Judge next season: {projected_war_judge}\")"
   ]
  },
  {
   "cell_type": "code",
   "execution_count": 17,
   "id": "3d404bae",
   "metadata": {},
   "outputs": [
    {
     "name": "stdout",
     "output_type": "stream",
     "text": [
      "Projected WAR for Bobby Witt Jr next season: 7.4\n"
     ]
    }
   ],
   "source": [
    "# Bobby Witt Jr\n",
    "\n",
    "previous_war = 5.5\n",
    "new_war = 9.3\n",
    "confidence_prior = 0.5\n",
    "\n",
    "projected_war_witt = war_projection(previous_war, new_war, confidence_prior)\n",
    "\n",
    "print(f\"Projected WAR for Bobby Witt Jr next season: {projected_war_witt}\")"
   ]
  },
  {
   "cell_type": "code",
   "execution_count": 29,
   "id": "ab463085",
   "metadata": {},
   "outputs": [
    {
     "name": "stdout",
     "output_type": "stream",
     "text": [
      "Projected WAR for Gunnar Henderson next season: 6.15\n"
     ]
    }
   ],
   "source": [
    "# Gunnar Henderson\n",
    "\n",
    "previous_war = 4.2\n",
    "new_war = 8.1\n",
    "confidence_prior = 0.5\n",
    "\n",
    "projected_war_henderson = war_projection(previous_war, new_war, confidence_prior)\n",
    "\n",
    "print(f\"Projected WAR for Gunnar Henderson next season: {projected_war_henderson}\")"
   ]
  },
  {
   "cell_type": "code",
   "execution_count": 32,
   "id": "66f2a389",
   "metadata": {},
   "outputs": [
    {
     "name": "stdout",
     "output_type": "stream",
     "text": [
      "Projected WAR for Jarren Duran next season: 4.0\n"
     ]
    }
   ],
   "source": [
    "# Jarren Duran\n",
    "\n",
    "previous_war = 1.5\n",
    "new_war = 6.5\n",
    "confidence_prior = 0.5\n",
    "\n",
    "projected_war_duran = war_projection(previous_war, new_war, confidence_prior)\n",
    "\n",
    "print(f\"Projected WAR for Jarren Duran next season: {projected_war_duran}\")"
   ]
  },
  {
   "cell_type": "code",
   "execution_count": 30,
   "id": "59e1a647",
   "metadata": {},
   "outputs": [
    {
     "name": "stdout",
     "output_type": "stream",
     "text": [
      "Projected WAR for Juan Soto next season: 7.425000000000001\n"
     ]
    }
   ],
   "source": [
    "# Juan Soto\n",
    "\n",
    "previous_war = 6\n",
    "new_war = 7.9\n",
    "confidence_prior = 0.25\n",
    "\n",
    "projected_war_soto = war_projection(previous_war, new_war, confidence_prior)\n",
    "\n",
    "print(f\"Projected WAR for Juan Soto next season: {projected_war_soto}\")"
   ]
  },
  {
   "cell_type": "code",
   "execution_count": 24,
   "id": "08689713",
   "metadata": {},
   "outputs": [
    {
     "name": "stdout",
     "output_type": "stream",
     "text": [
      "Projected WAR for Julio Rodriguez next season: 4.96\n"
     ]
    }
   ],
   "source": [
    "# Julio Rodriguez\n",
    "\n",
    "previous_war = 5.8\n",
    "new_war = 3.7\n",
    "confidence_prior = 0.6\n",
    "\n",
    "projected_war_rodriguez = war_projection(previous_war, new_war, confidence_prior)\n",
    "\n",
    "print(f\"Projected WAR for Julio Rodriguez next season: {projected_war_rodriguez}\")"
   ]
  },
  {
   "cell_type": "code",
   "execution_count": 25,
   "id": "f45ff47e",
   "metadata": {},
   "outputs": [
    {
     "name": "stdout",
     "output_type": "stream",
     "text": [
      "Projected WAR for Jackson Merrill next season: 3.8249999999999997\n"
     ]
    }
   ],
   "source": [
    "# Jackson Merrill\n",
    "\n",
    "previous_war = 0\n",
    "new_war = 5.1\n",
    "confidence_prior = 0.25\n",
    "\n",
    "projected_war_merrill = war_projection(previous_war, new_war, confidence_prior)\n",
    "\n",
    "print(f\"Projected WAR for Jackson Merrill next season: {projected_war_merrill}\")"
   ]
  },
  {
   "cell_type": "code",
   "execution_count": 31,
   "id": "53c33ddb",
   "metadata": {},
   "outputs": [
    {
     "name": "stdout",
     "output_type": "stream",
     "text": [
      "Projected WAR for Francisco Lindor next season: 6.35\n"
     ]
    }
   ],
   "source": [
    "# Francisco Lindor\n",
    "\n",
    "previous_war = 6\n",
    "new_war = 7.4\n",
    "confidence_prior = 0.75\n",
    "\n",
    "projected_war_lindor = war_projection(previous_war, new_war, confidence_prior)\n",
    "\n",
    "print(f\"Projected WAR for Francisco Lindor next season: {projected_war_lindor}\")"
   ]
  },
  {
   "cell_type": "code",
   "execution_count": 33,
   "id": "06a4df89",
   "metadata": {},
   "outputs": [
    {
     "name": "stdout",
     "output_type": "stream",
     "text": [
      "Projected WAR for Elly De La Cruz next season: 4.15\n"
     ]
    }
   ],
   "source": [
    "# Elly De La Cruz\n",
    "\n",
    "previous_war = 1.8\n",
    "new_war = 6.5\n",
    "confidence_prior = 0.5\n",
    "\n",
    "projected_war_delacruz = war_projection(previous_war, new_war, confidence_prior)\n",
    "\n",
    "print(f\"Projected WAR for Elly De La Cruz next season: {projected_war_delacruz}\")"
   ]
  },
  {
   "cell_type": "code",
   "execution_count": 34,
   "id": "61e5eae0",
   "metadata": {},
   "outputs": [
    {
     "name": "stdout",
     "output_type": "stream",
     "text": [
      "Projected WAR for Vladimir Guerrero Jr next season: 4.7\n"
     ]
    }
   ],
   "source": [
    "# Vladimir Guerrero Jr\n",
    "\n",
    "previous_war = 3.5\n",
    "new_war = 5.5\n",
    "confidence_prior = 0.4\n",
    "\n",
    "projected_war_guerrero = war_projection(previous_war, new_war, confidence_prior)\n",
    "\n",
    "print(f\"Projected WAR for Vladimir Guerrero Jr next season: {projected_war_guerrero}\")"
   ]
  },
  {
   "cell_type": "code",
   "execution_count": 35,
   "id": "bcd6b28d",
   "metadata": {},
   "outputs": [
    {
     "name": "stdout",
     "output_type": "stream",
     "text": [
      "Projected WAR for Tarik Skubal next season: 4.15\n"
     ]
    }
   ],
   "source": [
    "# Tarik Skubal\n",
    "\n",
    "previous_war = 2.7\n",
    "new_war = 5.6\n",
    "confidence_prior = 0.5\n",
    "\n",
    "projected_war_skubal = war_projection(previous_war, new_war, confidence_prior)\n",
    "\n",
    "print(f\"Projected WAR for Tarik Skubal next season: {projected_war_skubal}\")"
   ]
  },
  {
   "cell_type": "code",
   "execution_count": 38,
   "id": "46830745",
   "metadata": {},
   "outputs": [
    {
     "name": "stdout",
     "output_type": "stream",
     "text": [
      "Projected WAR for Adley Rutschman next season: 4.46\n"
     ]
    }
   ],
   "source": [
    "# Adley Rutschman\n",
    "\n",
    "previous_war = 5.5\n",
    "new_war = 2.9\n",
    "confidence_prior = 0.6\n",
    "\n",
    "projected_war_rutschman = war_projection(previous_war, new_war, confidence_prior)\n",
    "\n",
    "print(f\"Projected WAR for Adley Rutschman next season: {projected_war_rutschman}\")"
   ]
  },
  {
   "cell_type": "code",
   "execution_count": 39,
   "id": "7cdd27ea",
   "metadata": {},
   "outputs": [
    {
     "name": "stdout",
     "output_type": "stream",
     "text": [
      "Projected WAR for Corbin Carroll next season: 4.725\n"
     ]
    }
   ],
   "source": [
    "# Corbin Carroll\n",
    "\n",
    "previous_war = 5\n",
    "new_war = 3.9\n",
    "confidence_prior = 0.75\n",
    "\n",
    "projected_war_carroll = war_projection(previous_war, new_war, confidence_prior)\n",
    "\n",
    "print(f\"Projected WAR for Corbin Carroll next season: {projected_war_carroll}\")"
   ]
  },
  {
   "cell_type": "code",
   "execution_count": 40,
   "id": "00fbfdfa",
   "metadata": {},
   "outputs": [
    {
     "name": "stdout",
     "output_type": "stream",
     "text": [
      "Projected WAR for Spencer Strider next season: 3.75\n"
     ]
    }
   ],
   "source": [
    "# Spencer Strider\n",
    "\n",
    "previous_war = 5\n",
    "new_war = 0\n",
    "confidence_prior = 0.75\n",
    "\n",
    "projected_war_strider = war_projection(previous_war, new_war, confidence_prior)\n",
    "\n",
    "print(f\"Projected WAR for Spencer Strider next season: {projected_war_strider}\")"
   ]
  },
  {
   "cell_type": "code",
   "execution_count": null,
   "id": "522babe7",
   "metadata": {},
   "outputs": [],
   "source": []
  }
 ],
 "metadata": {
  "kernelspec": {
   "display_name": "Python 3 (ipykernel)",
   "language": "python",
   "name": "python3"
  },
  "language_info": {
   "codemirror_mode": {
    "name": "ipython",
    "version": 3
   },
   "file_extension": ".py",
   "mimetype": "text/x-python",
   "name": "python",
   "nbconvert_exporter": "python",
   "pygments_lexer": "ipython3",
   "version": "3.10.13"
  }
 },
 "nbformat": 4,
 "nbformat_minor": 5
}
